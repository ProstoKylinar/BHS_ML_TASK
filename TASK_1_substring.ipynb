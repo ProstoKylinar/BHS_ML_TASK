{
 "cells": [
  {
   "cell_type": "markdown",
   "metadata": {},
   "source": [
    "*Задача №1*\n",
    "\n",
    "Дана строка s. Найдите длину самой длинной подстроки без повторяющихся символов. \n"
   ]
  },
  {
   "cell_type": "code",
   "execution_count": 2,
   "metadata": {},
   "outputs": [],
   "source": [
    "# ассмиптотическая сложность - О(n)\n",
    "def max_uniq_substring(s):\n",
    "    n = len(s)\n",
    "    substrung_set = set()\n",
    "    begin_ptr = 0\n",
    "    end_ptr = 0\n",
    "    result = 0\n",
    "    while begin_ptr < n and end_ptr < n:\n",
    "        if s[end_ptr] in substrung_set:\n",
    "            substrung_set.remove(s[begin_ptr])\n",
    "            begin_ptr += 1\n",
    "        else:\n",
    "            substrung_set.add(s[end_ptr])\n",
    "            end_ptr += 1\n",
    "            result = max(result,end_ptr - begin_ptr)\n",
    "    return result"
   ]
  },
  {
   "cell_type": "markdown",
   "metadata": {},
   "source": [
    "Тесты:"
   ]
  },
  {
   "cell_type": "code",
   "execution_count": 3,
   "metadata": {},
   "outputs": [
    {
     "name": "stdout",
     "output_type": "stream",
     "text": [
      "TESTS\n",
      "*************************\n",
      "aabchbad\n",
      "Expected: 5\n",
      "Result:   5\n",
      "*************************\n",
      "abcde\n",
      "Expected: 5\n",
      "Result:   5\n",
      "*************************\n",
      "ababababa\n",
      "Expected: 2\n",
      "Result:   2\n",
      "*************************\n",
      "\n",
      "Expected: 0\n",
      "Result:   0\n",
      "*************************\n",
      "a\n",
      "Expected: 1\n",
      "Result:   1\n",
      "*************************\n",
      "aaaaaa\n",
      "Expected: 1\n",
      "Result:   1\n",
      "*************************\n",
      "AaBbCc\n",
      "Expected: 6\n",
      "Result:   6\n",
      "*************************\n",
      "фьвф\n",
      "Expected: 3\n",
      "Result:   3\n",
      "*************************\n"
     ]
    }
   ],
   "source": [
    "print('TESTS')\n",
    "# стандартные проверки на корректность алгоритма\n",
    "s = 'aabchbad'\n",
    "print('*************************')\n",
    "print(s)\n",
    "print(\"Expected: 5\")\n",
    "print('Result:  ', max_uniq_substring(s))\n",
    "print('*************************')\n",
    "s = 'abcde'\n",
    "print(s)\n",
    "print(\"Expected: 5\")\n",
    "print('Result:  ', max_uniq_substring(s))\n",
    "print('*************************')\n",
    "s = 'ababababa'\n",
    "print(s)\n",
    "print(\"Expected: 2\")\n",
    "print('Result:  ', max_uniq_substring(s))\n",
    "print('*************************')\n",
    "# проверки на нестандартный ввод\n",
    "s = ''\n",
    "print(s)\n",
    "print(\"Expected: 0\")\n",
    "print('Result:  ', max_uniq_substring(s))\n",
    "print('*************************')\n",
    "s = 'a'\n",
    "print(s)\n",
    "print(\"Expected: 1\")\n",
    "print('Result:  ', max_uniq_substring(s))\n",
    "print('*************************')\n",
    "s = 'aaaaaa'\n",
    "print(s)\n",
    "print(\"Expected: 1\")\n",
    "print('Result:  ', max_uniq_substring(s))\n",
    "print('*************************')\n",
    "s = 'AaBbCc'\n",
    "print(s)\n",
    "print(\"Expected: 6\")\n",
    "print('Result:  ', max_uniq_substring(s))\n",
    "print('*************************')\n",
    "s = 'фьвф'\n",
    "print(s)\n",
    "print(\"Expected: 3\")\n",
    "print('Result:  ', max_uniq_substring(s))\n",
    "print('*************************')"
   ]
  },
  {
   "cell_type": "markdown",
   "metadata": {},
   "source": []
  }
 ],
 "metadata": {
  "kernelspec": {
   "display_name": "base",
   "language": "python",
   "name": "python3"
  },
  "language_info": {
   "codemirror_mode": {
    "name": "ipython",
    "version": 3
   },
   "file_extension": ".py",
   "mimetype": "text/x-python",
   "name": "python",
   "nbconvert_exporter": "python",
   "pygments_lexer": "ipython3",
   "version": "3.12.4"
  }
 },
 "nbformat": 4,
 "nbformat_minor": 2
}
