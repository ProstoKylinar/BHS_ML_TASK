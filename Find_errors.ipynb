{
  "cells": [
    {
      "cell_type": "code",
      "execution_count": 3,
      "metadata": {
        "id": "qj_nTH23qYWf"
      },
      "outputs": [
        {
          "name": "stdout",
          "output_type": "stream",
          "text": [
            "Requirement already satisfied: torchviz in /opt/anaconda3/lib/python3.12/site-packages (0.0.2)\n",
            "Requirement already satisfied: torch in /opt/anaconda3/lib/python3.12/site-packages (from torchviz) (2.4.1)\n",
            "Requirement already satisfied: graphviz in /opt/anaconda3/lib/python3.12/site-packages (from torchviz) (0.20.3)\n",
            "Requirement already satisfied: filelock in /opt/anaconda3/lib/python3.12/site-packages (from torch->torchviz) (3.13.1)\n",
            "Requirement already satisfied: typing-extensions>=4.8.0 in /opt/anaconda3/lib/python3.12/site-packages (from torch->torchviz) (4.11.0)\n",
            "Requirement already satisfied: sympy in /opt/anaconda3/lib/python3.12/site-packages (from torch->torchviz) (1.12)\n",
            "Requirement already satisfied: networkx in /opt/anaconda3/lib/python3.12/site-packages (from torch->torchviz) (3.2.1)\n",
            "Requirement already satisfied: jinja2 in /opt/anaconda3/lib/python3.12/site-packages (from torch->torchviz) (3.1.4)\n",
            "Requirement already satisfied: fsspec in /opt/anaconda3/lib/python3.12/site-packages (from torch->torchviz) (2024.3.1)\n",
            "Requirement already satisfied: setuptools in /opt/anaconda3/lib/python3.12/site-packages (from torch->torchviz) (69.5.1)\n",
            "Requirement already satisfied: MarkupSafe>=2.0 in /opt/anaconda3/lib/python3.12/site-packages (from jinja2->torch->torchviz) (2.1.3)\n",
            "Requirement already satisfied: mpmath>=0.19 in /opt/anaconda3/lib/python3.12/site-packages (from sympy->torch->torchviz) (1.3.0)\n",
            "Note: you may need to restart the kernel to use updated packages.\n"
          ]
        }
      ],
      "source": [
        "%pip install torchviz"
      ]
    },
    {
      "cell_type": "code",
      "execution_count": 4,
      "metadata": {},
      "outputs": [
        {
          "name": "stdout",
          "output_type": "stream",
          "text": [
            "Collecting torchvision\n",
            "  Downloading torchvision-0.19.1-cp312-cp312-macosx_11_0_arm64.whl.metadata (6.0 kB)\n",
            "Requirement already satisfied: numpy in /opt/anaconda3/lib/python3.12/site-packages (from torchvision) (1.26.4)\n",
            "Requirement already satisfied: torch==2.4.1 in /opt/anaconda3/lib/python3.12/site-packages (from torchvision) (2.4.1)\n",
            "Requirement already satisfied: pillow!=8.3.*,>=5.3.0 in /opt/anaconda3/lib/python3.12/site-packages (from torchvision) (10.3.0)\n",
            "Requirement already satisfied: filelock in /opt/anaconda3/lib/python3.12/site-packages (from torch==2.4.1->torchvision) (3.13.1)\n",
            "Requirement already satisfied: typing-extensions>=4.8.0 in /opt/anaconda3/lib/python3.12/site-packages (from torch==2.4.1->torchvision) (4.11.0)\n",
            "Requirement already satisfied: sympy in /opt/anaconda3/lib/python3.12/site-packages (from torch==2.4.1->torchvision) (1.12)\n",
            "Requirement already satisfied: networkx in /opt/anaconda3/lib/python3.12/site-packages (from torch==2.4.1->torchvision) (3.2.1)\n",
            "Requirement already satisfied: jinja2 in /opt/anaconda3/lib/python3.12/site-packages (from torch==2.4.1->torchvision) (3.1.4)\n",
            "Requirement already satisfied: fsspec in /opt/anaconda3/lib/python3.12/site-packages (from torch==2.4.1->torchvision) (2024.3.1)\n",
            "Requirement already satisfied: setuptools in /opt/anaconda3/lib/python3.12/site-packages (from torch==2.4.1->torchvision) (69.5.1)\n",
            "Requirement already satisfied: MarkupSafe>=2.0 in /opt/anaconda3/lib/python3.12/site-packages (from jinja2->torch==2.4.1->torchvision) (2.1.3)\n",
            "Requirement already satisfied: mpmath>=0.19 in /opt/anaconda3/lib/python3.12/site-packages (from sympy->torch==2.4.1->torchvision) (1.3.0)\n",
            "Downloading torchvision-0.19.1-cp312-cp312-macosx_11_0_arm64.whl (1.7 MB)\n",
            "\u001b[2K   \u001b[90m━━━━━━━━━━━━━━━━━━━━━━━━━━━━━━━━━━━━━━━━\u001b[0m \u001b[32m1.7/1.7 MB\u001b[0m \u001b[31m1.8 MB/s\u001b[0m eta \u001b[36m0:00:00\u001b[0ma \u001b[36m0:00:01\u001b[0m0m\n",
            "\u001b[?25hInstalling collected packages: torchvision\n",
            "Successfully installed torchvision-0.19.1\n",
            "Note: you may need to restart the kernel to use updated packages.\n"
          ]
        }
      ],
      "source": [
        "%pip install torchvision"
      ]
    },
    {
      "cell_type": "code",
      "execution_count": 1,
      "metadata": {
        "id": "cGbI46RX78DE"
      },
      "outputs": [],
      "source": [
        "import torch\n",
        "import torch.nn as nn\n",
        "from torch.utils.data import DataLoader, Dataset\n",
        "import torchvision\n",
        "import numpy as np\n",
        "from sklearn.model_selection import train_test_split\n",
        "import torchvision.transforms as transforms\n",
        "from tqdm import tqdm\n",
        "from torchviz import make_dot\n",
        "import matplotlib.pyplot as plt"
      ]
    },
    {
      "cell_type": "code",
      "execution_count": 66,
      "metadata": {
        "colab": {
          "base_uri": "https://localhost:8080/"
        },
        "id": "j8ZArIEV8U58",
        "outputId": "b7686adb-5373-43e7-bb41-b950513a4b4b"
      },
      "outputs": [],
      "source": [
        "transform = transforms.ToTensor() # определяет трансформацию, которая будет применена к изображениям в датасете\n",
        "# преобразует изображение в формат тензора(пиксели принимают значения от 0 до 1)\n",
        "train_dataset = torchvision.datasets.FashionMNIST(root='./data', train=True, download=True, transform=transform)\n",
        "# загрузка тренировчоной части датасета в папку ./data, если нет локально, то из интернета, с применением уже известной трансформации\n",
        "test_dataset = torchvision.datasets.FashionMNIST(root = \"./data\", train = False, download=True, transform=transform)\n",
        "# загрузка тест части датасета в папку ./data, если нет локально, то из интернета, с применением уже известной трансформации\n"
      ]
    },
    {
      "cell_type": "code",
      "execution_count": 67,
      "metadata": {
        "id": "nabOH-LS79ij"
      },
      "outputs": [],
      "source": [
        "batch_size = 64 # количество образцов, подаваемых за одну итерацию\n",
        "train_loader = DataLoader(train_dataset, batch_size=batch_size, shuffle=True) \n",
        "# передает обучающий набор данных, в соответствии с размером батча *без перемешивания* - исправлено на *с перемешиванием*\n",
        "test_loader = DataLoader(test_dataset, batch_size=batch_size, shuffle=True)\n",
        "# передает тестовый набор данных, в соответствии с размером батча *без перемешивания* - исправлено на *с перемешиванием*"
      ]
    },
    {
      "cell_type": "code",
      "execution_count": 68,
      "metadata": {
        "colab": {
          "base_uri": "https://localhost:8080/"
        },
        "id": "6lNf98Dr-Wpi",
        "outputId": "a2ba0d63-df2f-4f73-e8ff-7b0990d964c3"
      },
      "outputs": [
        {
          "data": {
            "text/plain": [
              "(2, 2, torch.Size([64, 1, 28, 28]), torch.Size([64]))"
            ]
          },
          "execution_count": 68,
          "metadata": {},
          "output_type": "execute_result"
        }
      ],
      "source": [
        "train_item = next(iter(train_loader)) # извлекает первый батч из лоадера для трен данных\n",
        "test_item = next(iter(test_loader)) # извлекает первый батч из лоадера для тест данных\n",
        "len(train_item), len(test_item), train_item[0].shape, train_item[1].shape"
      ]
    },
    {
      "cell_type": "code",
      "execution_count": 69,
      "metadata": {
        "id": "Wv21tbtXmEbW"
      },
      "outputs": [],
      "source": [
        "class NNModel(nn.Module):\n",
        "    def __init__(self,\n",
        "                 layers_size = [49, 32, 16, 10],\n",
        "                 # dropout_prob = 1.0 - все нейроны будут отключены\n",
        "                 dropout_prob = 0.7\n",
        "\n",
        "                 ):\n",
        "        super().__init__()\n",
        "        #self.conv = nn.Conv2d(1, 1, kernel_size = 1, stride = 4)\n",
        "        self.conv = nn.Conv2d(1, 1, kernel_size = 1, stride = 1)\n",
        "        #\n",
        "        self.layers = nn.ModuleList([nn.Linear(layers_size[i], layers_size[i+1]) for i in range(len(layers_size)-1)]) # положил в nn.ModuleList\n",
        "        self.norm = nn.ModuleList([nn.BatchNorm1d(inp_size, affine  = False) for inp_size in layers_size[1:-1]]) # положил в nn.ModuleList\n",
        "        self.relu = nn.ReLU()\n",
        "        self.dropout = nn.Dropout(p=dropout_prob)\n",
        "\n",
        "    def forward(self, batch):\n",
        "        bs = batch.shape[0]\n",
        "        batch = self.conv(batch).reshape(bs, -1)\n",
        "\n",
        "        for i, layer in enumerate(self.layers):\n",
        "            if i < len(self.layers) -1:\n",
        "                batch = self.dropout(self.relu(self.norm[i](layer(batch))))\n",
        "            else:\n",
        "                batch = layer(batch)\n",
        "        return batch\n",
        "\n",
        "    def print_net(self):\n",
        "        print(self.conv)\n",
        "        for i, layer in enumerate(self.layers):\n",
        "            if i < len(self.layers) -1:\n",
        "                print(layer)\n",
        "                print(self.norm[i])\n",
        "                print(self.relu)\n",
        "                print(self.dropout)\n",
        "            else:\n",
        "                print(layer)\n",
        "\n",
        "        return\n",
        "    \n",
        "### Входные данные сначала проходят через сверточный слой, который минимально изменяет их структуру.\n",
        "### Далее данные преобразуются в векторы и проходят через последовательность полносвязных слоев с нормализацией, активацией ReLU и Dropout.\n",
        "### На выходе мы получаем вектор с 10 значениями (в данном случае вероятности классов для задачи классификации)."
      ]
    },
    {
      "cell_type": "code",
      "execution_count": 70,
      "metadata": {
        "colab": {
          "base_uri": "https://localhost:8080/"
        },
        "id": "sD36MPJlp7m-",
        "outputId": "f8753f6a-cfcf-49df-b8fd-e1b4d8c9dd05"
      },
      "outputs": [
        {
          "name": "stdout",
          "output_type": "stream",
          "text": [
            "Conv2d(1, 1, kernel_size=(1, 1), stride=(1, 1))\n",
            "Linear(in_features=784, out_features=32, bias=True)\n",
            "BatchNorm1d(32, eps=1e-05, momentum=0.1, affine=False, track_running_stats=True)\n",
            "ReLU()\n",
            "Dropout(p=0.1, inplace=False)\n",
            "Linear(in_features=32, out_features=16, bias=True)\n",
            "BatchNorm1d(16, eps=1e-05, momentum=0.1, affine=False, track_running_stats=True)\n",
            "ReLU()\n",
            "Dropout(p=0.1, inplace=False)\n",
            "Linear(in_features=16, out_features=10, bias=True)\n"
          ]
        }
      ],
      "source": [
        "mlp  = NNModel(dropout_prob = 0.1, layers_size = [784, 32, 16, 10]) # 28*28, нейроны двух скрытых слоев, слой 10 нейронов на выходе\n",
        "\n",
        "predictions = mlp(train_item[0])\n",
        "make_dot(predictions, params=dict(mlp.named_parameters()))\n",
        "mlp.print_net()\n",
        "\n",
        "# экземпляр нейронной сети NNModel, \n",
        "# выполняет прямое распространение (forward pass) на одном батче данных  и выводит структуру сети"
      ]
    },
    {
      "cell_type": "code",
      "execution_count": 71,
      "metadata": {
        "colab": {
          "base_uri": "https://localhost:8080/",
          "height": 356
        },
        "id": "VtgLUBij7FGM",
        "outputId": "8b9e80e9-1688-4e53-9fdd-3dee69ec151c"
      },
      "outputs": [
        {
          "data": {
            "image/png": "[encoded data removed]",
            "text/plain": [
              "<Figure size 640x480 with 1 Axes>"
            ]
          },
          "metadata": {},
          "output_type": "display_data"
        }
      ],
      "source": [
        "num_epochs = 30 # уменьшил количество эпох\n",
        "DEBUG = False\n",
        "ce_loss = nn.CrossEntropyLoss()\n",
        "optimizer = torch.optim.Adam(mlp.parameters(), lr =  0.01)\n",
        "\n",
        "logger = { 'train':[], 'eval' :[] }\n",
        "\n",
        "for epoch in range(num_epochs):\n",
        "\n",
        "    epoch_stat = []\n",
        "\n",
        "    # train part\n",
        "\n",
        "    mlp.train()\n",
        "    for batch in train_loader: # поменял на train_loader\n",
        "\n",
        "        images, labels = batch\n",
        "        images, labels = images.float(), labels.long()\n",
        "        images.requires_grad = True # автоматическое вычисление градиентов для входных данных для обратного распостранения ошибки\n",
        "\n",
        "        optimizer.zero_grad() # обнуляем накопленные градиенты\n",
        "\n",
        "        predictions = mlp(images)\n",
        "        loss = ce_loss(predictions, labels)\n",
        "        loss.backward()\n",
        "        optimizer.step()\n",
        "\n",
        "        epoch_stat.append(loss.item())\n",
        "\n",
        "    if DEBUG: print(f\"train loss value = {np.mean(epoch_stat)}\")\n",
        "    logger['train'].append(np.mean(epoch_stat))\n",
        "\n",
        "\n",
        "    # eval part\n",
        "    with torch.no_grad():\n",
        "\n",
        "        eval_stat = []\n",
        "        for batch in test_loader: # поменял на test_loader\n",
        "\n",
        "            images, labels = batch\n",
        "            images, labels = images.float(), labels.long()\n",
        "\n",
        "            predictions = mlp(images)\n",
        "            loss = ce_loss(predictions, labels)\n",
        "\n",
        "            eval_stat.append(loss.item())\n",
        "    if DEBUG: print(f\"eval loss value = {np.mean(eval_stat)}\")\n",
        "    logger['eval'].append(np.mean(eval_stat))\n",
        "\n",
        "plt.plot(logger['train'], label='Train loss' )\n",
        "plt.plot(logger['eval'], label='Val loss')\n",
        "plt.legend()\n",
        "plt.show()\n",
        "\n",
        "### обучение и оценка нейронной сети, тренировочная и оценочная часть + логгирование значений потерь для каждого этапа"
      ]
    },
    {
      "cell_type": "code",
      "execution_count": 37,
      "metadata": {
        "colab": {
          "base_uri": "https://localhost:8080/"
        },
        "id": "kR5E4dNasv-e",
        "outputId": "36bbc1e6-11f0-4117-dd44-b4e03403ad60"
      },
      "outputs": [
        {
          "data": {
            "text/plain": [
              "NNModel(\n",
              "  (conv): Conv2d(1, 1, kernel_size=(1, 1), stride=(1, 1))\n",
              "  (layers): ModuleList(\n",
              "    (0): Linear(in_features=784, out_features=32, bias=True)\n",
              "    (1): Linear(in_features=32, out_features=16, bias=True)\n",
              "    (2): Linear(in_features=16, out_features=10, bias=True)\n",
              "  )\n",
              "  (norm): ModuleList(\n",
              "    (0): BatchNorm1d(32, eps=1e-05, momentum=0.1, affine=False, track_running_stats=True)\n",
              "    (1): BatchNorm1d(16, eps=1e-05, momentum=0.1, affine=False, track_running_stats=True)\n",
              "  )\n",
              "  (relu): ReLU()\n",
              "  (dropout): Dropout(p=0.1, inplace=False)\n",
              ")"
            ]
          },
          "execution_count": 37,
          "metadata": {},
          "output_type": "execute_result"
        }
      ],
      "source": [
        "mlp"
      ]
    },
    {
      "cell_type": "code",
      "execution_count": null,
      "metadata": {
        "id": "3SknE_w6rB83"
      },
      "outputs": [],
      "source": [
        "# pytorch_total_params = sum(p.numel() for p in mlp.parameters())\n",
        "# pytorch_total_params"
      ]
    },
    {
      "cell_type": "code",
      "execution_count": null,
      "metadata": {
        "id": "kFkZrcmmsOu4"
      },
      "outputs": [],
      "source": []
    }
  ],
  "metadata": {
    "colab": {
      "provenance": []
    },
    "kernelspec": {
      "display_name": "base",
      "language": "python",
      "name": "python3"
    },
    "language_info": {
      "codemirror_mode": {
        "name": "ipython",
        "version": 3
      },
      "file_extension": ".py",
      "mimetype": "text/x-python",
      "name": "python",
      "nbconvert_exporter": "python",
      "pygments_lexer": "ipython3",
      "version": "3.12.4"
    }
  },
  "nbformat": 4,
  "nbformat_minor": 0
}
