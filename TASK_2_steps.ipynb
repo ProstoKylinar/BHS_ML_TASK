{
 "cells": [
  {
   "cell_type": "markdown",
   "metadata": {},
   "source": [
    "*Задача №2*\n",
    "\n",
    "Вы поднимаетесь по лестнице. Чтобы добраться до самого верха, вам необходимо пройти n ступеней. Каждый раз, вы можете подняться либо на 1 ступеньку, либо на 2. Как много различных способов подняться на самый верх у вас есть?\n"
   ]
  },
  {
   "cell_type": "code",
   "execution_count": 2,
   "metadata": {},
   "outputs": [],
   "source": [
    "def sub_climb_stairs(i, n, steps_list):\n",
    "    if i > n:\n",
    "        return 0\n",
    "    if i == n:\n",
    "        return 1\n",
    "    if steps_list[i] > 0:\n",
    "        return steps_list[i]\n",
    "    steps_list[i] = sub_climb_stairs(i + 1, n, steps_list) + sub_climb_stairs(i + 2, n, steps_list)\n",
    "    return steps_list[i]\n",
    "\n",
    "def climb_the_stairs(n): # ассимптотическая сложность - О(n)\n",
    "    steps_list = [0] * (n + 1)\n",
    "    return sub_climb_stairs(0, n, steps_list)\n"
   ]
  },
  {
   "cell_type": "markdown",
   "metadata": {},
   "source": [
    "Тесты:"
   ]
  },
  {
   "cell_type": "code",
   "execution_count": 8,
   "metadata": {},
   "outputs": [
    {
     "name": "stdout",
     "output_type": "stream",
     "text": [
      "TESTS\n",
      "*************************\n",
      "n =  1\n",
      "Expected: 1\n",
      "Result:   1\n",
      "*************************\n",
      "n =  5\n",
      "Expected: 8\n",
      "Result:   8\n",
      "*************************\n",
      "n =  6\n",
      "Expected: 13\n",
      "Result:   13\n",
      "*************************\n",
      "n =  10\n",
      "Expected: 89\n",
      "Result:   89\n",
      "*************************\n",
      "n =  0\n",
      "Expected: 1\n",
      "Result:   1\n",
      "*************************\n",
      "n =  -1\n",
      "Expected: 0\n",
      "Result:   0\n",
      "*************************\n",
      "n =  50\n",
      "Result:   20365011074\n",
      "*************************\n",
      "n =  100\n",
      "Result:   573147844013817084101\n",
      "*************************\n",
      "n =  1000\n",
      "Result:   70330367711422815821835254877183549770181269836358732742604905087154537118196933579742249494562611733487750449241765991088186363265450223647106012053374121273867339111198139373125598767690091902245245323403501\n",
      "*************************\n"
     ]
    }
   ],
   "source": [
    "print('TESTS')\n",
    "# стандартные проверки на корректность алгоримта\n",
    "n = 1\n",
    "print('*************************')\n",
    "print('n = ', n)\n",
    "print('Expected: 1')\n",
    "print('Result:  ', climb_the_stairs(n))\n",
    "print('*************************')\n",
    "n = 5\n",
    "print('n = ', n)\n",
    "print('Expected: 8')\n",
    "print('Result:  ', climb_the_stairs(n))\n",
    "print('*************************')\n",
    "n = 6\n",
    "print('n = ', n)\n",
    "print('Expected: 13')\n",
    "print('Result:  ', climb_the_stairs(n))\n",
    "print('*************************')\n",
    "n = 10\n",
    "print('n = ', n)\n",
    "print('Expected: 89')\n",
    "print('Result:  ', climb_the_stairs(n))\n",
    "print('*************************')\n",
    "# проверки на нестандартные значения\n",
    "n = 0\n",
    "print('n = ', n)\n",
    "print('Expected: 1')\n",
    "print('Result:  ', climb_the_stairs(n))\n",
    "print('*************************')\n",
    "n = -1\n",
    "print('n = ', n)\n",
    "print('Expected: 0')\n",
    "print('Result:  ', climb_the_stairs(n))\n",
    "print('*************************')\n",
    "# проверки на производительность алгоритма\n",
    "n = 50\n",
    "print('n = ', n)\n",
    "print('Result:  ', climb_the_stairs(n))\n",
    "print('*************************')\n",
    "n = 100\n",
    "print('n = ', n)\n",
    "print('Result:  ', climb_the_stairs(n))\n",
    "print('*************************')\n",
    "n = 1000\n",
    "print('n = ', n)\n",
    "print('Result:  ', climb_the_stairs(n))\n",
    "print('*************************')"
   ]
  }
 ],
 "metadata": {
  "kernelspec": {
   "display_name": "base",
   "language": "python",
   "name": "python3"
  },
  "language_info": {
   "codemirror_mode": {
    "name": "ipython",
    "version": 3
   },
   "file_extension": ".py",
   "mimetype": "text/x-python",
   "name": "python",
   "nbconvert_exporter": "python",
   "pygments_lexer": "ipython3",
   "version": "3.12.4"
  }
 },
 "nbformat": 4,
 "nbformat_minor": 2
}
